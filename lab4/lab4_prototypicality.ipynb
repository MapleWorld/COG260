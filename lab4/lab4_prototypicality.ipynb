{
 "cells": [
  {
   "cell_type": "markdown",
   "metadata": {},
   "source": [
    "## Lab 4 - Prototypicality"
   ]
  },
  {
   "cell_type": "markdown",
   "metadata": {},
   "source": [
    "This lab must be done **individually**. The required packages have been imported for you below."
   ]
  },
  {
   "cell_type": "code",
   "execution_count": 6,
   "metadata": {},
   "outputs": [],
   "source": [
    "import matplotlib.pyplot as plt\n",
    "import numpy as np\n",
    "import pickle\n",
    "from scipy import spatial  "
   ]
  },
  {
   "cell_type": "markdown",
   "metadata": {},
   "source": [
    "**Optional**: Uncomment the following line of code to sanity-check your `pearsonr` function below."
   ]
  },
  {
   "cell_type": "code",
   "execution_count": 7,
   "metadata": {},
   "outputs": [],
   "source": [
    "#from scipy.stats import pearsonr"
   ]
  },
  {
   "cell_type": "markdown",
   "metadata": {},
   "source": [
    "Data adapted from Leuven Concept Database (De Deyne et al., 2008). \n",
    "\n",
    "Import data for the lab. \n",
    "\n",
    "**Hint**: Check what these variables are by printing them out."
   ]
  },
  {
   "cell_type": "code",
   "execution_count": 11,
   "metadata": {},
   "outputs": [
    {
     "name": "stdout",
     "output_type": "stream",
     "text": [
      "['eagle', 'dove', 'duck', 'pheasant', 'turkey', 'canary', 'chicken', 'crow', 'seagull', 'blackbird', 'sparrow', 'stork', 'parrot', 'parakeet', 'peacock', 'pelican', 'penguin', 'robin', 'woodpecker', 'ostrich', 'owl', 'falcon', 'swan']\n",
      "[[0 0 0 ... 0 0 0]\n",
      " [1 1 1 ... 1 1 1]\n",
      " [4 0 0 ... 1 3 0]\n",
      " ...\n",
      " [1 1 0 ... 1 1 1]\n",
      " [1 0 1 ... 0 0 1]\n",
      " [0 1 1 ... 0 0 0]]\n",
      "[1.75 1.46 3.24 2.69 4.09 1.42 4.02 1.97 1.77 1.43 1.18 3.1  2.07 1.53\n",
      " 3.31 2.98 4.53 1.02 1.78 4.12 2.96 1.96 3.16]\n",
      "['\\ufeffis attracted by shiny objects', 'is a scavenging animal', 'endangered species', 'is bluish grey', 'builds nests', 'vomits pellets', 'brings children', 'hatches out other eggs', 'is brown/black', 'is a thief', 'carries a ring', 'floats on water', 'eats berries', 'eats bread', 'eats fruit', 'eats grain', 'eats insects', 'eats frogs', 'eats small animals', 'eats mice', 'eats fish', 'eats worms', 'eats seed', 'there are many kinds of it', 'filtrate food out of the water with its bill', 'sings (whistles)', 'is used in competitions', 'yellow', 'is eaten on festive dinners', 'is dangerous', 'is grey', 'grey-white', 'has two eyes', 'has downy hair', 'has a yellow bill', 'has a large wingspread', 'has a large tail', 'has a crest', 'has a hooked bill', 'has a long neck', 'has a pointed mouth', 'has a red breast', 'has a bill', 'has a tail', 'has a big bill', 'has big claws ', 'has large eyes', 'has claws', 'has short paws', 'has long paws', 'has a beautiful tail', 'has beautiful feathers', 'has an eye on its feathers', 'has a red dewlap', 'has sharp claws', 'has a bill with a crop', 'has two paws', 'has many colours', 'has feathers', 'has wings', 'is fin-footed', 'lives in a chicken coop', 'lives in a cage', 'is found in a pond', 'is grisly', 'is brown', 'the boss among the chickens', 'is dumb', 'dark colour', 'is an animal', 'is a pet', 'is a bird of prey', 'is a migratory bird', 'is a carnivore', 'is edible', 'is funny', '\"is grey', 'is green', 'is big', 'is bigger than a chicken', 'is small', 'is tasty', 'is ugly', 'is sweet ', 'is beautiful', 'is not dangerous', 'is cute', 'is smart', 'is fast', 'is a symbol for peace', 'is white', 'is afraid of people', 'rises early', 'hunts', 'cackles', 'can be aggressive', 'can be a greeting', 'is good at diving', 'can be caught', 'can be fed', 'can sing beautifully', \"can't fly\", 'can be filled up', 'can talk', 'is not good at flying', 'can open its tail', 'can have different colors', 'can fly', 'can be bred', 'can turn his head very far', 'can swim', 'has a small bill', 'is in a cuckoo clock', 'occurs frequently', 'is found in Belgium', 'is found in the garden', 'appears in songs', 'is found in advertising or as brand ', 'appears in fairy tales and stories', 'crows', ' in the morning', 'has beady eyes', 'has peepers', 'quacks', 'has a long bill', 'lives by the sea', 'live alone', 'lives in Africa', 'lives in trees', 'live in the mountains', 'lives in nature', 'lives in the zoo', 'lives in Europe', 'herds', 'lives in the woods', 'lives in the wild', 'lives in cold areas', 'lives in tropical areas', 'lives in fields', 'lives in warm countries', 'lives in water', 'does not live in Belgium', 'also lives in the city', 'lives on a farm', 'lives on land  ', 'sometimes lives in church towers ', 'lives among human beings', 'especially lives at the coast', 'lays eggs', 'lays eggs in the nests of other birds', 'does not lay eggs', 'lays big eggs', 'seems mean', \"makes a 'coo' sound\", \"makes an 'oehoe' sound\", 'makes holes in trees', 'makes a sound', 'makes an extremely irritating sound', 'makes a recognizable sound', 'builds nests at high altitude', 'makes a sharp sound', 'makes a lot of clamor', 'is messy', 'makes a strange noise', 'wakes up', 'is a male chicken', 'the male occurs in different colours', 'is mostly grey brown', \"is a girl's name\", 'is medium-sized', 'beautiful colours', 'nocturnal animal', 'can store food in its bill', 'has an orange bill', 'pecks', 'lives in the polar regions', 'is red', 'has a sharp view', 'graceful', 'sleeps on a stick', 'gabbles', 'jumps', 'opens its tail when it is scared', 'sometimes stands on one paw', 'sticks its head into the ground', 'stinks', 'appears in comics', 'cartoon figure', \"makes a 'tok tok' sound\", 'clucks on trees', 'does not migrate in the winter', 'is proud', 'chirps', 'is often released after a wedding', 'often sits still', 'flies high', 'flies in formation', 'is a bird', 'especially lives in the country', 'especially occurs in the winter', 'the female is brown', 'is the female of the cock', 'waddles', 'used to carry around mail', 'is used in fights', 'is used in shows', \"is eaten when it's Christmas\", 'is eaten on Thanksgiving', 'is kept by a pigeon fancier', 'assosciated with wisdom', 'is not eaten', 'is hunted', \"often becoms a cat's prey\", 'is a prototypical bird', 'says cuckoo', 'is rare', 'can see in the dark', 'sings', 'sits on threads of electricity', 'often sits in parks', 'takes good care of her children', 'is black', 'is black and white', 'has black eyes', 'glides', 'flutters', 'has a beak', 'has air sacs', 'has legs', 'has two wings', 'can walk', 'is able to reproduce', 'is found in trees', 'is sometimes kept as a pet', 'is sometimes eaten by man']\n",
      "235\n"
     ]
    }
   ],
   "source": [
    "with open(\"data-prototypicality.pickle\", \"rb\") as f:\n",
    "    birdnames, F, goodness, features = pickle.load(f) \n",
    "    print (birdnames)\n",
    "    print (F)\n",
    "    print (goodness)\n",
    "    print (features)\n",
    "    print (len(features))"
   ]
  },
  {
   "cell_type": "markdown",
   "metadata": {
    "collapsed": true
   },
   "source": [
    "### Task 1 [0.5 pt]\n",
    "\n",
    "Calculate the prototype feature vector from all birds, using the `F` variable."
   ]
  },
  {
   "cell_type": "code",
   "execution_count": 10,
   "metadata": {},
   "outputs": [
    {
     "name": "stdout",
     "output_type": "stream",
     "text": [
      "[0.04347826 1.         0.95652174 0.2173913  3.73913043 0.17391304\n",
      " 0.17391304 0.52173913 0.95652174 0.08695652 2.08695652 0.65217391\n",
      " 1.04347826 2.04347826 1.04347826 1.73913043 1.91304348 0.34782609\n",
      " 1.         0.56521739 0.91304348 1.82608696 1.65217391 1.47826087\n",
      " 0.30434783 0.69565217 0.26086957 0.39130435 0.43478261 0.34782609\n",
      " 0.86956522 0.56521739 4.         1.47826087 1.91304348 0.95652174\n",
      " 0.43478261 0.17391304 1.2173913  0.73913043 0.82608696 0.17391304\n",
      " 4.         3.95652174 0.52173913 0.43478261 0.2173913  1.91304348\n",
      " 1.39130435 0.34782609 0.34782609 0.69565217 0.17391304 0.26086957\n",
      " 1.17391304 0.17391304 4.         1.65217391 3.91304348 4.\n",
      " 0.7826087  0.26086957 0.47826087 0.43478261 0.13043478 1.47826087\n",
      " 0.         0.73913043 2.08695652 4.         0.60869565 0.39130435\n",
      " 0.65217391 0.73913043 1.04347826 0.56521739 0.69565217 0.34782609\n",
      " 1.56521739 1.86956522 1.52173913 1.         0.60869565 0.86956522\n",
      " 2.04347826 3.17391304 0.65217391 0.47826087 1.73913043 0.17391304\n",
      " 1.04347826 0.69565217 0.34782609 1.         0.2173913  1.56521739\n",
      " 0.         0.47826087 0.91304348 1.86956522 0.60869565 0.86956522\n",
      " 1.30434783 0.17391304 0.65217391 0.2173913  1.08695652 3.34782609\n",
      " 1.2173913  1.2173913  0.82608696 1.47826087 0.         2.17391304\n",
      " 2.7826087  0.91304348 0.26086957 0.17391304 0.69565217 0.43478261\n",
      " 0.04347826 0.39130435 1.95652174 0.17391304 0.47826087 0.52173913\n",
      " 1.43478261 1.17391304 1.69565217 0.39130435 3.56521739 1.43478261\n",
      " 3.39130435 1.43478261 1.65217391 3.43478261 0.17391304 0.30434783\n",
      " 0.52173913 0.91304348 0.82608696 0.73913043 0.7826087  0.69565217\n",
      " 1.86956522 0.2173913  0.82608696 0.47826087 4.         0.\n",
      " 0.         0.60869565 0.7826087  0.17391304 0.17391304 0.17391304\n",
      " 4.         0.7826087  1.95652174 1.         1.26086957 1.82608696\n",
      " 0.30434783 0.30434783 0.         0.         0.65217391 1.04347826\n",
      " 0.17391304 1.60869565 0.86956522 0.2173913  0.17391304 1.95652174\n",
      " 2.47826087 0.17391304 0.2173913  1.         0.39130435 0.86956522\n",
      " 0.30434783 0.52173913 0.2173913  0.2173913  0.17391304 1.\n",
      " 0.2173913  0.86956522 0.2173913  0.17391304 3.13043478 0.30434783\n",
      " 0.43478261 0.17391304 1.13043478 0.69565217 0.17391304 4.\n",
      " 1.08695652 0.26086957 1.04347826 0.17391304 0.56521739 0.17391304\n",
      " 0.         0.39130435 0.30434783 0.17391304 0.17391304 0.17391304\n",
      " 2.95652174 1.08695652 0.65217391 0.95652174 0.         1.7826087\n",
      " 0.17391304 0.56521739 0.43478261 0.82608696 2.30434783 0.65217391\n",
      " 0.34782609 2.82608696 0.73913043 0.47826087 1.         0.7826087\n",
      " 1.         1.         1.         1.         0.73913043 0.43478261\n",
      " 0.26086957]\n",
      "235\n"
     ]
    }
   ],
   "source": [
    "# Write your code here.\n",
    "''' axis = 1 to calculate the mean of each row '''\n",
    "featureVector = np.mean(F, axis = 1)\n",
    "print(featureVector)\n",
    "print(len(featureVector))"
   ]
  },
  {
   "cell_type": "markdown",
   "metadata": {
    "collapsed": true
   },
   "source": [
    "### Task 2 [1 pt]\n",
    "Calculate Euclidean distance of each bird to the prototype feature vector. \n",
    "\n",
    "**Hint**: use `spatial.distance.euclidean(x,y)`."
   ]
  },
  {
   "cell_type": "code",
   "execution_count": 14,
   "metadata": {},
   "outputs": [
    {
     "name": "stdout",
     "output_type": "stream",
     "text": [
      "[17.90971898 16.58762606 17.78792309 13.27376422 16.42563583 13.88999449\n",
      " 16.28741149 11.51451784 13.40576577 13.91032582 13.12388262 17.31728815\n",
      " 15.56533884 12.9555004  14.82863678 17.77692053 18.17479715 12.38939726\n",
      " 12.01527069 15.4377217  16.82833375 16.13453598 15.33174425]\n"
     ]
    }
   ],
   "source": [
    "# Write your code here.\n",
    "'''\n",
    "F.transpose() will change the columns into the rows, and rows turns into columns\n",
    "Then each row has all the feature values for that bird\n",
    "'''\n",
    "euclideanDistanceForAllBirds = []\n",
    "birdFeatureVectors = F.transpose()\n",
    "for birdFeature in birdFeatureVectors:\n",
    "    euclideanDistance = spatial.distance.euclidean(featureVector, birdFeature)\n",
    "    euclideanDistanceForAllBirds = np.append(euclideanDistanceForAllBirds, euclideanDistance)\n",
    "print (euclideanDistanceForAllBirds)"
   ]
  },
  {
   "cell_type": "code",
   "execution_count": 15,
   "metadata": {},
   "outputs": [],
   "source": [
    "def pearsonr(a, b):\n",
    "    # Write your code here.\n",
    "    numerator = np.cov(a, b)[0][1]\n",
    "    denominator = a.std() * b.std()\n",
    "    corr = numerator / denominator\n",
    "    return corr"
   ]
  },
  {
   "cell_type": "markdown",
   "metadata": {
    "collapsed": true
   },
   "source": [
    "### Task 4 [1 pt]\n",
    "\n",
    "Calculate and report the Pearson correlation between empirical ratings in \"goodness\" and distances of birds to prototype."
   ]
  },
  {
   "cell_type": "code",
   "execution_count": 16,
   "metadata": {},
   "outputs": [
    {
     "name": "stdout",
     "output_type": "stream",
     "text": [
      "The Pearson Correlation value is:  0.6063551169150772\n"
     ]
    }
   ],
   "source": [
    "# Write your code here.\n",
    "'''\n",
    "scipy.stats.pearsonr(x, y) returns two values\n",
    "rfloat: Pearson’s correlation coefficient\n",
    "p-valuefloat: two-tailed p-value\n",
    "p-value value is not useful in this context\n",
    "'''\n",
    "corr = pearsonr(goodness, euclideanDistanceForAllBirds)\n",
    "print (\"The Pearson Correlation value is: \", corr)"
   ]
  },
  {
   "cell_type": "markdown",
   "metadata": {
    "collapsed": true
   },
   "source": [
    "### Task 5 & Task 6 [2 pts]\n",
    "**Task 5**: Scatter-plot \"goodness\" ratings (y-axis) against distances of birds to prototype (x-axis); label both axes. **[1 pt]**\n",
    "\n",
    "**Task 6**: Fit a line to these data points and show that line on the plot. **[1 pt]**"
   ]
  },
  {
   "cell_type": "code",
   "execution_count": 17,
   "metadata": {},
   "outputs": [
    {
     "data": {
      "image/png": "[encoded data removed]",
      "text/plain": [
       "<Figure size 432x288 with 1 Axes>"
      ]
     },
     "metadata": {
      "needs_background": "light"
     },
     "output_type": "display_data"
    }
   ],
   "source": [
    "# Write your code here.\n",
    "# Task 5\n",
    "plt.scatter(euclideanDistanceForAllBirds, goodness)\n",
    "plt.xlabel(\"Euclidean Distance\")\n",
    "plt.ylabel(\"Goodness\")\n",
    "\n",
    "# Task 6\n",
    "linefit = np.polyfit(euclideanDistanceForAllBirds, goodness, 1)\n",
    "slope = linefit[0]\n",
    "intercept = linefit[1]\n",
    "y = slope * euclideanDistanceForAllBirds + intercept\n",
    "plt.plot(euclideanDistanceForAllBirds, y)\n",
    "plt.show()"
   ]
  },
  {
   "cell_type": "markdown",
   "metadata": {},
   "source": [
    "### Task 7 [3 pts]\n",
    "**Task 7**: a) Propose and justify a simple method of improving the correlation; b) Implement your proposal and show it works. **[3 pts]**\n"
   ]
  },
  {
   "cell_type": "code",
   "execution_count": 18,
   "metadata": {},
   "outputs": [
    {
     "name": "stdout",
     "output_type": "stream",
     "text": [
      "Feature Vectors: \n",
      " [0. 1. 0. 0. 4. 0. 0. 1. 1. 0. 2. 0. 1. 2. 1. 2. 2. 0. 0. 0. 0. 1. 2. 1.\n",
      " 0. 0. 0. 0. 0. 0. 1. 0. 4. 1. 2. 0. 0. 0. 1. 0. 1. 0. 4. 4. 0. 0. 0. 2.\n",
      " 1. 0. 0. 0. 0. 0. 1. 0. 4. 2. 4. 4. 0. 0. 0. 0. 0. 1. 0. 0. 2. 4. 0. 0.\n",
      " 0. 0. 0. 0. 0. 0. 1. 1. 2. 0. 0. 0. 2. 3. 0. 0. 2. 0. 0. 1. 0. 0. 0. 2.\n",
      " 0. 0. 1. 1. 0. 1. 1. 0. 0. 0. 0. 4. 1. 1. 0. 1. 0. 2. 4. 0. 0. 0. 0. 0.\n",
      " 0. 0. 2. 0. 0. 0. 1. 1. 2. 0. 4. 0. 4. 1. 2. 4. 0. 0. 0. 0. 0. 0. 1. 0.\n",
      " 1. 0. 1. 0. 4. 0. 0. 0. 1. 0. 0. 0. 4. 0. 2. 1. 1. 2. 0. 0. 0. 0. 0. 1.\n",
      " 0. 1. 0. 0. 0. 2. 3. 0. 0. 1. 0. 1. 0. 0. 0. 0. 0. 1. 0. 1. 0. 0. 3. 0.\n",
      " 0. 0. 1. 0. 0. 4. 1. 0. 1. 0. 0. 0. 0. 0. 0. 0. 0. 0. 4. 1. 0. 0. 0. 1.\n",
      " 0. 0. 0. 0. 2. 0. 0. 3. 0. 0. 1. 1. 1. 1. 1. 1. 1. 0. 0.]\n",
      "The old Pearson Correlation value is:  0.6063551169150772\n",
      "The new Pearson Correlation value is:  0.6654645137464171\n"
     ]
    }
   ],
   "source": [
    "# Write your solution here.\n",
    "# Task 7.a\n",
    "'''\n",
    "Computing the feature vector using median instead of mean.\n",
    "This will help driving up the pearson correlation value, \n",
    "as it will filter out the outliers.\n",
    "\n",
    "For example, in our F variables for some features (Row 0),\n",
    "[0 0 0 0 0 0 0 1 0 0 0 0 0 0 0 0 0 0 0 0 0 0 0]\n",
    "majority of the population doesn't have that feature, \n",
    "yet we still need to consider it when computing the average as some outlier has it.\n",
    "'''\n",
    "\n",
    "# Task 7.b\n",
    "featureVector = np.median(F, axis = 1)\n",
    "print(\"Feature Vectors: \\n\", featureVector)\n",
    "\n",
    "euclideanDistanceForAllBirds = []\n",
    "birdFeatureVectors = F.transpose()\n",
    "for birdFeature in birdFeatureVectors:\n",
    "    euclideanDistance = spatial.distance.euclidean(featureVector, birdFeature)\n",
    "    euclideanDistanceForAllBirds = np.append(euclideanDistanceForAllBirds, euclideanDistance)\n",
    "    \n",
    "newCorr = pearsonr(goodness, euclideanDistanceForAllBirds)\n",
    "print (\"The old Pearson Correlation value is: \", corr)\n",
    "print (\"The new Pearson Correlation value is: \", newCorr)\n"
   ]
  },
  {
   "cell_type": "markdown",
   "metadata": {},
   "source": [
    "Export and submit a **fully executable** Python Jupyter Notebook and a PDF copy of your notebook showing all results. "
   ]
  },
  {
   "cell_type": "code",
   "execution_count": null,
   "metadata": {},
   "outputs": [],
   "source": [
    "\n"
   ]
  }
 ],
 "metadata": {
  "anaconda-cloud": {},
  "kernelspec": {
   "display_name": "Python 3",
   "language": "python",
   "name": "python3"
  },
  "language_info": {
   "codemirror_mode": {
    "name": "ipython",
    "version": 3
   },
   "file_extension": ".py",
   "mimetype": "text/x-python",
   "name": "python",
   "nbconvert_exporter": "python",
   "pygments_lexer": "ipython3",
   "version": "3.7.3"
  }
 },
 "nbformat": 4,
 "nbformat_minor": 1
}

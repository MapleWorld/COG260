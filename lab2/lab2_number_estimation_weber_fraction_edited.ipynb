{
 "cells": [
  {
   "cell_type": "markdown",
   "metadata": {},
   "source": [
    "## Lab 2 - Number estimation (Weber fraction)"
   ]
  },
  {
   "cell_type": "markdown",
   "metadata": {},
   "source": [
    "This lab must be done **individually**. The required packages have been imported for you below."
   ]
  },
  {
   "cell_type": "code",
   "execution_count": 1,
   "metadata": {},
   "outputs": [],
   "source": [
    "import matplotlib.pyplot as plt\n",
    "import numpy as np\n",
    "import pandas as pd"
   ]
  },
  {
   "cell_type": "markdown",
   "metadata": {},
   "source": [
    "The target number (i.e. ground truth) for each experimental trial is provided in the following python array."
   ]
  },
  {
   "cell_type": "code",
   "execution_count": 2,
   "metadata": {},
   "outputs": [],
   "source": [
    "targets = np.array([3, 8, 40, 2, 5, 30, 7, 35, 6, 15, 10, 20, 9, 25, 4]);"
   ]
  },
  {
   "cell_type": "markdown",
   "metadata": {},
   "source": [
    "Read in the experimental data collected in-class. `df` is a dataframe of size _(Participants x Trials)_."
   ]
  },
  {
   "cell_type": "code",
   "execution_count": 3,
   "metadata": {},
   "outputs": [],
   "source": [
    "df = pd.read_csv('data-number-estimation.csv')"
   ]
  },
  {
   "cell_type": "code",
   "execution_count": 4,
   "metadata": {},
   "outputs": [
    {
     "name": "stdout",
     "output_type": "stream",
     "text": [
      "    Trial 1  Trial 2  Trial 3  Trial 4  Trial 5  Trial 6  Trial 7  Trial 8  \\\n",
      "0         3        8       27        2        5       25        8       30   \n",
      "1         3        8       24        2        5       25        7       25   \n",
      "2         3        8       30        2        5       40        7       30   \n",
      "3         3        8       30        2        5       25        7       25   \n",
      "4         3        9       27        2        5       24        7       35   \n",
      "5         3        9       36        2        6       38        8       32   \n",
      "6         3        7       25        1        5       25        7       30   \n",
      "7         3        8       30        2        6       30        8       30   \n",
      "8         3        8       30        2        5       25        6       40   \n",
      "9         3        8       25        2        5       30        7       27   \n",
      "10        3        8       26        2        5       19        7       30   \n",
      "11        3        8       22        2        5       26        7       25   \n",
      "12        3        8       20        2        5       20        7       25   \n",
      "13        3        9       32        2        5       27        9       38   \n",
      "14        3        9       40        2        5       50        7       40   \n",
      "15        3        8       39        2        5       40        7       40   \n",
      "16        3        7       23        2        5       26        7       25   \n",
      "17        3        8       50        2        5       30        6       30   \n",
      "18        3        8       25        2        5       30        7       35   \n",
      "19        3        9       20        2        6       20        7       30   \n",
      "20        3        7       25        2        4       20        7       30   \n",
      "21        3        8       23        2        5       25        7       29   \n",
      "22        3        8       40        2        5       20        7       25   \n",
      "23        3        9       27        2        5       38        7       38   \n",
      "24        3        8       31        2        5       25        7       50   \n",
      "25        3        8       27        2        5       25        7       22   \n",
      "26        3        7       35        2        5       20        7       25   \n",
      "27        3       10       30        2        6       27        8       23   \n",
      "28        3        8       27        2        5       21        7       29   \n",
      "29        3       10        8        2        5       25        8       30   \n",
      "30        3        8       35        2        5       30        7       35   \n",
      "31        3        9       40        2        5       30        7       30   \n",
      "32        3        9       30        2        5       40       10       35   \n",
      "33        3       10       30        2        5       25        7       28   \n",
      "34        3        8       47        2        5       26        7       45   \n",
      "35        3        8       20        2        5       15        9       18   \n",
      "36        3        7       21        2        5       25        7       19   \n",
      "37        3        8       27        2        5       25        8       30   \n",
      "38        3        8       30        2        5       35        7       45   \n",
      "39        3        8       21        2        5       27        7       26   \n",
      "40        3        8       20        2        5       20        7       31   \n",
      "41        3        8       20        2        5       25        7       28   \n",
      "42        3       15       50        2        6       50        8       60   \n",
      "43        3        8       45        2        5       46        6       40   \n",
      "44        3        9       19        2        5       20        7       25   \n",
      "45        3        7       25        2        5       25        8       25   \n",
      "46        3        7       23        2        5       18        6       20   \n",
      "\n",
      "    Trial 9  Trial 10  Trial 11  Trial 12  Trial 13  Trial 14  Trial 15  \n",
      "0         6        20        17        25         8        26         4  \n",
      "1         6        26        12        35        12        30         4  \n",
      "2         6        20         9        20         9        35         4  \n",
      "3         6        15         9        20         9        25         4  \n",
      "4         6        15        10        25         9        23         4  \n",
      "5         6        15        20        28        15        23         4  \n",
      "6         6        17        11        23        10        36         4  \n",
      "7         7        15        10        20         9        30         4  \n",
      "8         6        20        11        30         9        30         4  \n",
      "9         6        15        10        20         9        20         4  \n",
      "10        6        16        10        21         9        32         4  \n",
      "11        6        12         9        18         9        23         4  \n",
      "12        6        12        10        18        12        14         4  \n",
      "13        6        16        11        34        17        28         4  \n",
      "14        8        20        11        24        10        30         4  \n",
      "15        6        13        10        15         9        38         4  \n",
      "16        6        18        10        20         9        21         4  \n",
      "17        6        15        10        20         9        25         4  \n",
      "18        6        15        11        25         9        26         4  \n",
      "19        6        15        12        18         9        20         4  \n",
      "20        6        15        10        25         9        15         4  \n",
      "21        6        15        11        18         9        22         4  \n",
      "22        6        18         8        15        12        25         4  \n",
      "23        6        17        10        29        10        32         4  \n",
      "24        6        19        10        20         9        23         4  \n",
      "25        6        18        10        23         9        20         4  \n",
      "26        6        17        10        18         9        20         4  \n",
      "27        6        14         8        19         7        29         3  \n",
      "28        6        18        10        27         9        24         4  \n",
      "29        6        17        12        18        10        21         4  \n",
      "30        6        13         9        20        10        20         5  \n",
      "31        6        20        13        25        10        35         4  \n",
      "32        6        15        10        20        10        30         4  \n",
      "33        6        18        15        28        10        28         4  \n",
      "34        6        14        10        22         9        23         4  \n",
      "35        6        15        10        20         9        18         4  \n",
      "36        6        17         9        18         7        23         4  \n",
      "37        7        15        11        17         9        28         4  \n",
      "38        6        16         9        19         9        23         4  \n",
      "39        6        14        11        16         9        21         4  \n",
      "40        6        19        12        16        16        27         4  \n",
      "41        6        18        10        20         9        19         4  \n",
      "42        7        20        10        30        10        40         4  \n",
      "43        6        18         9        20         9        23         4  \n",
      "44        6        14        11        18         9        23         4  \n",
      "45        6        15        12        18        11        15         4  \n",
      "46        5        13         9        12         8        21         4  \n"
     ]
    }
   ],
   "source": [
    "print(df)"
   ]
  },
  {
   "cell_type": "markdown",
   "metadata": {},
   "source": [
    "Compute $mean$ and standard deviation ($sd$) for each trial (do not use a `for` loop). \n"
   ]
  },
  {
   "cell_type": "code",
   "execution_count": 5,
   "metadata": {},
   "outputs": [
    {
     "name": "stdout",
     "output_type": "stream",
     "text": [
      "Trial 1      3.000000\n",
      "Trial 2      8.319149\n",
      "Trial 3     28.872340\n",
      "Trial 4      1.978723\n",
      "Trial 5      5.085106\n",
      "Trial 6     27.723404\n",
      "Trial 7      7.234043\n",
      "Trial 8     31.127660\n",
      "Trial 9      6.085106\n",
      "Trial 10    16.425532\n",
      "Trial 11    10.680851\n",
      "Trial 12    21.489362\n",
      "Trial 13     9.744681\n",
      "Trial 14    25.170213\n",
      "Trial 15     4.000000\n",
      "dtype: float64\n"
     ]
    }
   ],
   "source": [
    "mean = df.mean()\n",
    "print(mean)"
   ]
  },
  {
   "cell_type": "code",
   "execution_count": 6,
   "metadata": {},
   "outputs": [
    {
     "name": "stdout",
     "output_type": "stream",
     "text": [
      "Trial 1     0.000000\n",
      "Trial 2     1.252934\n",
      "Trial 3     8.641701\n",
      "Trial 4     0.145865\n",
      "Trial 5     0.350762\n",
      "Trial 6     8.072234\n",
      "Trial 7     0.757937\n",
      "Trial 8     8.157730\n",
      "Trial 9     0.408059\n",
      "Trial 10    2.668208\n",
      "Trial 11    2.117283\n",
      "Trial 12    4.960156\n",
      "Trial 13    1.938938\n",
      "Trial 14    5.946571\n",
      "Trial 15    0.208514\n",
      "dtype: float64\n"
     ]
    }
   ],
   "source": [
    "sd = df.std()\n",
    "print(sd)"
   ]
  },
  {
   "cell_type": "markdown",
   "metadata": {},
   "source": [
    "Plot $mean$ responses against target numbers and add a reference line for ground truth. \n"
   ]
  },
  {
   "cell_type": "code",
   "execution_count": 7,
   "metadata": {},
   "outputs": [
    {
     "data": {
      "text/plain": [
       "[<matplotlib.lines.Line2D at 0x13d2bdb5860>]"
      ]
     },
     "execution_count": 7,
     "metadata": {},
     "output_type": "execute_result"
    },
    {
     "data": {
      "image/png": "[encoded data removed]",
      "text/plain": [
       "<Figure size 432x288 with 1 Axes>"
      ]
     },
     "metadata": {
      "needs_background": "light"
     },
     "output_type": "display_data"
    }
   ],
   "source": [
    "plt.scatter(targets, mean, color = \"blue\", marker = \"s\")\n",
    "plt.plot(targets, targets, linestyle = \"dotted\", color = \"black\")"
   ]
  },
  {
   "cell_type": "markdown",
   "metadata": {},
   "source": [
    "Plot $mean+sd$ and $mean-sd$.\n"
   ]
  },
  {
   "cell_type": "code",
   "execution_count": 8,
   "metadata": {},
   "outputs": [
    {
     "data": {
      "text/plain": [
       "<matplotlib.collections.PathCollection at 0x13d2c586710>"
      ]
     },
     "execution_count": 8,
     "metadata": {},
     "output_type": "execute_result"
    },
    {
     "data": {
      "image/png": "[encoded data removed]",
      "text/plain": [
       "<Figure size 432x288 with 1 Axes>"
      ]
     },
     "metadata": {
      "needs_background": "light"
     },
     "output_type": "display_data"
    }
   ],
   "source": [
    "mean_above = np.add(mean, sd)\n",
    "mean_below = np.subtract(mean, sd)\n",
    "plt.scatter(targets, mean_above, color = \"red\")\n",
    "plt.scatter(targets, mean_below, color = \"red\")"
   ]
  },
  {
   "cell_type": "markdown",
   "metadata": {
    "collapsed": true
   },
   "source": [
    "Annotate the graph and axes."
   ]
  },
  {
   "cell_type": "code",
   "execution_count": 9,
   "metadata": {},
   "outputs": [
    {
     "data": {
      "text/plain": [
       "<matplotlib.legend.Legend at 0x13d2c51da58>"
      ]
     },
     "execution_count": 9,
     "metadata": {},
     "output_type": "execute_result"
    },
    {
     "data": {
      "image/png": "[encoded data removed]",
      "text/plain": [
       "<Figure size 432x288 with 1 Axes>"
      ]
     },
     "metadata": {
      "needs_background": "light"
     },
     "output_type": "display_data"
    }
   ],
   "source": [
    "plt.scatter(targets, mean, color = \"blue\", marker = \"s\", label = \"mean\")\n",
    "plt.plot(targets, targets, linestyle = \"dotted\", color = \"black\", label = \"ideal\")\n",
    "plt.scatter(targets, mean_above, color = \"red\", label = \"standard deviation\")\n",
    "plt.scatter(targets, mean_below, color = \"red\")\n",
    "plt.xlabel(\"Target Number\")\n",
    "plt.ylabel(\"Estimated Number\")\n",
    "plt.legend()"
   ]
  },
  {
   "cell_type": "code",
   "execution_count": 10,
   "metadata": {},
   "outputs": [
    {
     "data": {
      "text/plain": [
       "<Figure size 432x288 with 0 Axes>"
      ]
     },
     "execution_count": 10,
     "metadata": {},
     "output_type": "execute_result"
    },
    {
     "data": {
      "text/plain": [
       "<Figure size 432x288 with 0 Axes>"
      ]
     },
     "metadata": {},
     "output_type": "display_data"
    }
   ],
   "source": [
    "plt.figure()"
   ]
  },
  {
   "cell_type": "markdown",
   "metadata": {},
   "source": [
    "Divide $sd$ by $mean$ for each trial.\n"
   ]
  },
  {
   "cell_type": "code",
   "execution_count": 11,
   "metadata": {},
   "outputs": [
    {
     "name": "stdout",
     "output_type": "stream",
     "text": [
      "Trial 1     0.000000\n",
      "Trial 2     0.150608\n",
      "Trial 3     0.299307\n",
      "Trial 4     0.073717\n",
      "Trial 5     0.068978\n",
      "Trial 6     0.291170\n",
      "Trial 7     0.104774\n",
      "Trial 8     0.262073\n",
      "Trial 9     0.067059\n",
      "Trial 10    0.162443\n",
      "Trial 11    0.198232\n",
      "Trial 12    0.230819\n",
      "Trial 13    0.198974\n",
      "Trial 14    0.236254\n",
      "Trial 15    0.052129\n",
      "dtype: float64\n"
     ]
    }
   ],
   "source": [
    "k = np.divide(sd, mean)\n",
    "print(k)"
   ]
  },
  {
   "cell_type": "markdown",
   "metadata": {},
   "source": [
    "Plot $\\frac{sd}{mean}$ ratios against the target numbers."
   ]
  },
  {
   "cell_type": "code",
   "execution_count": 12,
   "metadata": {},
   "outputs": [
    {
     "data": {
      "text/plain": [
       "<matplotlib.collections.PathCollection at 0x13d2c6924e0>"
      ]
     },
     "execution_count": 12,
     "metadata": {},
     "output_type": "execute_result"
    },
    {
     "data": {
      "image/png": "[encoded data removed]",
      "text/plain": [
       "<Figure size 432x288 with 1 Axes>"
      ]
     },
     "metadata": {
      "needs_background": "light"
     },
     "output_type": "display_data"
    }
   ],
   "source": [
    "plt.scatter(targets, k)"
   ]
  },
  {
   "cell_type": "markdown",
   "metadata": {},
   "source": [
    "Estimate Weber's fraction by choosing a threshold on the target numbers. "
   ]
  },
  {
   "cell_type": "code",
   "execution_count": 77,
   "metadata": {},
   "outputs": [],
   "source": [
    "'''\n",
    "Picking only the threshold for target with value greater than 15:\n",
    "Because based on the above graph, the weber fraction increases as a much more stable rate when target value is greater than 15\n",
    "Which indicates a much more accurate estimation of the actual weber fractions, as web fractions are calculate on a large set of number\n",
    "\n",
    "Picking these threshold values based on the mean, as mean will rule out the outlier and provides a good base line for measurement.\n",
    "'''\n",
    "threshold = 15"
   ]
  },
  {
   "cell_type": "markdown",
   "metadata": {},
   "source": [
    "Calculate Weber fraction by averaging $\\frac{sd}{mean}$ ratios across trials that have targets greater than the threshold. \n",
    "\n",
    "**Hint**: Use `np.where()` and `np.mean()`."
   ]
  },
  {
   "cell_type": "code",
   "execution_count": 93,
   "metadata": {},
   "outputs": [
    {
     "name": "stdout",
     "output_type": "stream",
     "text": [
      "0.24701118916625833\n",
      "0.24701118916625833\n"
     ]
    }
   ],
   "source": [
    "\n",
    "arrayK = np.array(k)\n",
    "filteredWeberRatio = arrayK[np.where(df.mean() > threshold)]\n",
    "weberFractionRatio = np.mean(filteredWeberRatio)\n",
    "print(weberFractionRatio)\n",
    "\n",
    "filteredRatios = np.where(df.mean() > threshold, k, np.nan)\n",
    "weberFractionRatio = np.nanmean(filteredRatios)\n",
    "print(weberFractionRatio)\n",
    "\n",
    "\n"
   ]
  },
  {
   "cell_type": "markdown",
   "metadata": {
    "collapsed": true
   },
   "source": [
    "Export and submit a **fully executable** Python Jupyter Notebook and a PDF copy of your notebook showing all results. **[3pts]**\n"
   ]
  },
  {
   "cell_type": "code",
   "execution_count": null,
   "metadata": {},
   "outputs": [],
   "source": []
  },
  {
   "cell_type": "code",
   "execution_count": null,
   "metadata": {},
   "outputs": [],
   "source": []
  }
 ],
 "metadata": {
  "anaconda-cloud": {},
  "kernelspec": {
   "display_name": "Python 3",
   "language": "python",
   "name": "python3"
  },
  "language_info": {
   "codemirror_mode": {
    "name": "ipython",
    "version": 3
   },
   "file_extension": ".py",
   "mimetype": "text/x-python",
   "name": "python",
   "nbconvert_exporter": "python",
   "pygments_lexer": "ipython3",
   "version": "3.7.3"
  }
 },
 "nbformat": 4,
 "nbformat_minor": 1
}

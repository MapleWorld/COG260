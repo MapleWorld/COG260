{
 "cells": [
  {
   "cell_type": "markdown",
   "metadata": {},
   "source": [
    "## Lab 6 - Frequency"
   ]
  },
  {
   "cell_type": "markdown",
   "metadata": {},
   "source": [
    "This lab must be done **individually**. The required packages have been imported for you below."
   ]
  },
  {
   "cell_type": "code",
   "execution_count": 36,
   "metadata": {},
   "outputs": [],
   "source": [
    "import string\n",
    "import numpy as np\n",
    "from scipy.stats import pearsonr \n",
    "import matplotlib.pyplot as plt"
   ]
  },
  {
   "cell_type": "markdown",
   "metadata": {},
   "source": [
    "Load text file. Data from Project Gutenberg (https://www.gutenberg.org/)."
   ]
  },
  {
   "cell_type": "code",
   "execution_count": 53,
   "metadata": {},
   "outputs": [],
   "source": [
    "txt = open(\"ulysses.txt\",\"r\")"
   ]
  },
  {
   "cell_type": "markdown",
   "metadata": {},
   "source": [
    "Remove punctuations in text."
   ]
  },
  {
   "cell_type": "code",
   "execution_count": 54,
   "metadata": {},
   "outputs": [],
   "source": [
    "remove = dict.fromkeys(map(ord, string.punctuation))"
   ]
  },
  {
   "cell_type": "markdown",
   "metadata": {},
   "source": [
    "Collapse tokens to lower case."
   ]
  },
  {
   "cell_type": "code",
   "execution_count": 55,
   "metadata": {},
   "outputs": [],
   "source": [
    "txt = txt.read().translate(remove).lower()"
   ]
  },
  {
   "cell_type": "markdown",
   "metadata": {},
   "source": [
    "Construct a dictionary where `key` = word, `value` = count (or frequency)."
   ]
  },
  {
   "cell_type": "code",
   "execution_count": 56,
   "metadata": {},
   "outputs": [],
   "source": [
    "wordfreq = {}\n",
    "for word in txt.split():\n",
    "    if word not in wordfreq:\n",
    "        wordfreq[word] = 1\n",
    "    else:\n",
    "        wordfreq[word] += 1"
   ]
  },
  {
   "cell_type": "markdown",
   "metadata": {},
   "source": [
    "**Hint**: Print `wordfreq` to see what this dictionary contains.\n",
    "\n",
    "To work with keys and values in dictionaries, you may refer to https://docs.python.org/2/tutorial/datastructures.html.\n",
    "Alternatively, refer to the Python tutorial posted on course syllabus."
   ]
  },
  {
   "cell_type": "markdown",
   "metadata": {},
   "source": [
    "### Task 1 [2 pts]\n",
    "\n",
    "**Hint**: For how to `sort` and use `list` comprehension in Python, see the Python tutorial posted on course syllabus."
   ]
  },
  {
   "cell_type": "markdown",
   "metadata": {},
   "source": [
    "**Task 1a**: Construct an array of sorted word frequency of all words, and a separate array of word lengths."
   ]
  },
  {
   "cell_type": "code",
   "execution_count": 125,
   "metadata": {},
   "outputs": [
    {
     "name": "stdout",
     "output_type": "stream",
     "text": [
      "Word list sorted by frequency:  ['the', 'of', 'and', 'a', 'to', 'in', 'he', 'his', 'that', 'with', 'i', 'it', 'was', 'on', 'for', 'you', 'her', 'him', 'is', 'all']\n",
      "Word frequency sorted by frequency:  [15010, 8250, 7216, 6512, 5031, 4974, 3998, 3327, 2586, 2557, 2553, 2351, 2126, 2119, 1950, 1914, 1783, 1522, 1435, 1329]\n",
      "Word list sorted by frequency:  [3, 2, 3, 1, 2, 2, 2, 3, 4, 4, 1, 2, 3, 2, 3, 3, 3, 3, 2, 3]\n"
     ]
    }
   ],
   "source": [
    "# Write your code here.\n",
    "\n",
    "# Convert dict to array\n",
    "wordFreqList = [[key, value] for key, value in wordfreq.items()]\n",
    "\n",
    "# Create sorted word list by frequency, most frequent to least frequent word\n",
    "sortWordFreqList = [[key, val] for key,val in sorted(wordFreqList, key=lambda x: x[1], reverse=True)]\n",
    "sortWordByFreqList = [key for key,val in sortWordFreqList]\n",
    "print (\"Word list sorted by frequency: \", sortWordByFreqList[:20])\n",
    "\n",
    "# Create sorted word frequency list by frequency, highest to lowest\n",
    "sortedFreqList = [val for key,val in sortWordFreqList]\n",
    "print (\"Word frequency sorted by frequency: \", sortedFreqList[:20])\n",
    "\n",
    "# Create sorted word length list sorted by frequency\n",
    "sortWordLengthByFrequencyList = [len(word) for word, freq in sortWordFreqList]\n",
    "print (\"Word list sorted by frequency: \", sortWordLengthByFrequencyList[:20])"
   ]
  },
  {
   "cell_type": "markdown",
   "metadata": {},
   "source": [
    "**Task 1b**: Construct an array of ranks from on the sorted frequency array in **Task 1a** (using ordinal rank)."
   ]
  },
  {
   "cell_type": "code",
   "execution_count": 126,
   "metadata": {},
   "outputs": [
    {
     "name": "stdout",
     "output_type": "stream",
     "text": [
      "Word rank list:  [1, 2, 3, 4, 5, 6, 7, 8, 9, 10, 11, 12, 13, 14, 15, 16, 17, 18, 19, 20]\n"
     ]
    }
   ],
   "source": [
    "# Write your code here.\n",
    "rankList = [i for i in range(1, len(sortWordByFreqList) + 1)]\n",
    "print (\"Word rank list: \", rankList[:20])\n",
    "    "
   ]
  },
  {
   "cell_type": "markdown",
   "metadata": {},
   "source": [
    "**Task 1c**: Print the most frequent 20 words and their frequencies. **[1pt]**"
   ]
  },
  {
   "cell_type": "code",
   "execution_count": 128,
   "metadata": {},
   "outputs": [
    {
     "name": "stdout",
     "output_type": "stream",
     "text": [
      "Top 20 most frequent word and frequencies list:  [['the', 15010], ['of', 8250], ['and', 7216], ['a', 6512], ['to', 5031], ['in', 4974], ['he', 3998], ['his', 3327], ['that', 2586], ['with', 2557], ['i', 2553], ['it', 2351], ['was', 2126], ['on', 2119], ['for', 1950], ['you', 1914], ['her', 1783], ['him', 1522], ['is', 1435], ['all', 1329]]\n",
      "Top 20 words:  ['the', 'of', 'and', 'a', 'to', 'in', 'he', 'his', 'that', 'with', 'i', 'it', 'was', 'on', 'for', 'you', 'her', 'him', 'is', 'all']\n",
      "Top 20 frequencies:  [15010, 8250, 7216, 6512, 5031, 4974, 3998, 3327, 2586, 2557, 2553, 2351, 2126, 2119, 1950, 1914, 1783, 1522, 1435, 1329]\n"
     ]
    }
   ],
   "source": [
    "# Write your code here.\n",
    "print (\"Top 20 most frequent word and frequencies list: \", sortWordFreqList[:20])\n",
    "print (\"Top 20 words: \", sortWordByFreqList[:20])\n",
    "print (\"Top 20 frequencies: \", sortedFreqList[:20])"
   ]
  },
  {
   "cell_type": "markdown",
   "metadata": {},
   "source": [
    "### Task 2 [3 pts]"
   ]
  },
  {
   "cell_type": "markdown",
   "metadata": {
    "collapsed": true
   },
   "source": [
    "Produce a 2-by-2 set of subplots using `subplot`: https://matplotlib.org/api/_as_gen/matplotlib.pyplot.subplot.html\n",
    "\n",
    "**Task 2a**: Scatter plot word frequency (y-axis) against rank (x-axis). **[.5pt]**\n",
    "\n",
    "**Task 2b**: Scatter plot $log(freq)$ against $log(rank)$. **[.5pt]**\n",
    "\n",
    "**Task 2c**: Calculate and report the slope from **Task 2b** (via linear regression), i.e. slope of $log(freq)$ vs $log(rank)$. **[.5pt]**\n",
    "\n",
    "**Task 2d**: Scatter plot frequency against word length. **[.5pt]**\n",
    "\n",
    "**Task 2e**: Scatter plot $log(freq)$ against word length. **[.5pt]**"
   ]
  },
  {
   "cell_type": "code",
   "execution_count": 60,
   "metadata": {},
   "outputs": [
    {
     "name": "stdout",
     "output_type": "stream",
     "text": [
      "The sople for logFreq is:  -0.937594234884065\n",
      "The sople for logRank is:  -1.0332279368266433\n"
     ]
    },
    {
     "data": {
      "text/plain": [
       "Text(0.5, 1.0, 'Log Frequency vs Log Length')"
      ]
     },
     "execution_count": 60,
     "metadata": {},
     "output_type": "execute_result"
    },
    {
     "data": {
      "image/png": "[encoded data removed]",
      "text/plain": [
       "<Figure size 432x288 with 4 Axes>"
      ]
     },
     "metadata": {
      "needs_background": "light"
     },
     "output_type": "display_data"
    }
   ],
   "source": [
    "# Task 2a: Scatter plot word frequency (y-axis) against rank (x-axis). [.5pt]\n",
    "# Write your code here.\n",
    "plt.subplot(2, 2, 1)\n",
    "plt.scatter(rankList, sortedFreqList, marker='.')\n",
    "plt.title(\"Frequency vs Rank\")\n",
    "\n",
    "# Task 2b: Scatter plot 𝑙𝑜𝑔(𝑓𝑟𝑒𝑞) against 𝑙𝑜𝑔(𝑟𝑎𝑛𝑘). [.5pt]\n",
    "# Write your code here.\n",
    "logFreqList = np.log10(sortedFreqList)\n",
    "logRankList = np.log10(rankList)\n",
    "plt.subplot(2, 2, 2)\n",
    "plt.scatter(logRankList, logFreqList)\n",
    "plt.title(\"Log Frequency vs Log Rank\")\n",
    "\n",
    "# Task 2c\n",
    "# Write your code here.\n",
    "linefit = np.polyfit(logFreqList, logRankList, 1)\n",
    "slope = linefit[0]\n",
    "print (\"The sople for logFreq is: \", slope)\n",
    "\n",
    "linefit = np.polyfit(logRankList, logFreqList, 1)\n",
    "slope = linefit[0]\n",
    "print (\"The sople for logRank is: \", slope)\n",
    "    \n",
    "# Task 2d: Scatter plot frequency against word length. [.5pt]\n",
    "# Write your code here.\n",
    "plt.subplot(2, 2, 3)\n",
    "plt.scatter(sortWordLengthByFrequencyList, sortedFreqList)\n",
    "plt.title(\"Frequency vs Length\")\n",
    "\n",
    "# Task 2e: Scatter plot 𝑙𝑜𝑔(𝑓𝑟𝑒𝑞) against word length. [.5pt]\n",
    "# Write your code here.\n",
    "logWordLengthList = np.log10(sortWordLengthByFrequencyList)\n",
    "plt.subplot(2, 2, 4)\n",
    "plt.scatter(logWordLengthList, logFreqList)\n",
    "plt.title(\"Log Frequency vs Log Length\")"
   ]
  },
  {
   "cell_type": "markdown",
   "metadata": {},
   "source": [
    "### Task 3 [1 pt]\n",
    "\n",
    "Calculate and report the Pearson correlation between $log(freq)$ and word length. **[.5pt]**\n",
    "\n",
    "**Hint**: You may use `scipy.stats.pearsonr`; the first output is Pearson correlation."
   ]
  },
  {
   "cell_type": "code",
   "execution_count": 61,
   "metadata": {},
   "outputs": [
    {
     "name": "stdout",
     "output_type": "stream",
     "text": [
      "Pearson Correlation:  -0.3138729836865021\n",
      "Negative pearson correlation values indicates a negative linear relationship\n",
      "Which matches the graph above, as the values in y-axis decreases with increase in the x-axis\n"
     ]
    }
   ],
   "source": [
    "# Write your code here.\n",
    "values = pearsonr(logFreqList, sortWordLengthByFrequencyList)\n",
    "pearsonCorrelation = values[0]\n",
    "print (\"Pearson Correlation: \", pearsonCorrelation)\n",
    "print (\"Negative pearson correlation values indicates a negative linear relationship\")\n",
    "print (\"Which matches the graph above, as the values in y-axis decreases with increase in the x-axis\")"
   ]
  },
  {
   "cell_type": "markdown",
   "metadata": {},
   "source": [
    "### Task 4 [5 pts]"
   ]
  },
  {
   "cell_type": "markdown",
   "metadata": {},
   "source": [
    "**Task 4a**: Calculate and report the expected word length of English words based on the given data. **[1pt]**\n",
    "\n",
    "$E[len] = \\sum^{i} len(i) * prob(i)$, where $prob(i)$ = normalized frequency of word $i$ (over all available words)."
   ]
  },
  {
   "cell_type": "code",
   "execution_count": 99,
   "metadata": {},
   "outputs": [
    {
     "name": "stdout",
     "output_type": "stream",
     "text": [
      "Expected Word Length:  4.503965839656903\n"
     ]
    }
   ],
   "source": [
    "# Write your code here.\n",
    "def calculateExpectedWordLength(wordList, freqList):\n",
    "    totalNumWord = np.sum(freqList)\n",
    "    wordLenProbList = [(len(word) * (freq / totalNumWord)) for word, freq in zip(wordList, freqList)]\n",
    "    expectedWordLenBySum = np.sum(wordLenProbList)\n",
    "    return expectedWordLenBySum\n",
    "expectedWordLen = calculateExpectedWordLength(sortWordByFreqList, sortedFreqList)\n",
    "print (\"Expected Word Length: \" , expectedWordLen)"
   ]
  },
  {
   "cell_type": "markdown",
   "metadata": {},
   "source": [
    "**Task 4b**: Perform a shuffled (permutation) test with 1000 shuffled trials. **[1pt]**"
   ]
  },
  {
   "cell_type": "code",
   "execution_count": 107,
   "metadata": {},
   "outputs": [
    {
     "name": "stdout",
     "output_type": "stream",
     "text": [
      "Expected Word Length:  7.520106015758847\n"
     ]
    }
   ],
   "source": [
    "# Write your code here.\n",
    "numTrials = 1000\n",
    "shuffledTrials = []\n",
    "randomizedWordList = np.copy(sortWordByFreqList)\n",
    "randomizedFreqList = np.copy(sortedFreqList)\n",
    "for i in range(0, numTrials):\n",
    "    np.random.shuffle(randomizedWordList)\n",
    "    np.random.shuffle(randomizedFreqList)\n",
    "    expectedWordLenFromFunc = calculateExpectedWordLength(randomizedWordList, randomizedFreqList)\n",
    "    shuffledTrials.append(expectedWordLenFromFunc)\n",
    "    \n",
    "avgExpectedWordLen = np.mean(shuffledTrials)\n",
    "print (\"Expected Word Length: \" , avgExpectedWordLen)"
   ]
  },
  {
   "cell_type": "markdown",
   "metadata": {},
   "source": [
    "**Task 4c**: Based on the shuffled trials, histogram the expected word lengths from the shuffled data. **[.5pt]**"
   ]
  },
  {
   "cell_type": "code",
   "execution_count": 108,
   "metadata": {},
   "outputs": [
    {
     "data": {
      "image/png": "[encoded data removed]",
      "text/plain": [
       "<Figure size 432x288 with 1 Axes>"
      ]
     },
     "metadata": {
      "needs_background": "light"
     },
     "output_type": "display_data"
    }
   ],
   "source": [
    "# Write your code here.\n",
    "plt.hist(shuffledTrials, bins=10) \n",
    "plt.title(\"Shuffled Trials Histogram\")\n",
    "plt.ylabel(\"Count\")\n",
    "plt.xlabel(\"Expected Word Length\")\n",
    "plt.show()"
   ]
  },
  {
   "cell_type": "markdown",
   "metadata": {},
   "source": [
    "**Task 4d**: Calculate and report the _p-value_ from the shuffled test. \n",
    "\n",
    "The null hypothesis is that the expected word length is no different from the expected length from shuffled data. \n",
    "Based on the _p-value_ you have obtained, conclude whether the null should be rejected $(p<0.05)$. **[.5pt]**"
   ]
  },
  {
   "cell_type": "code",
   "execution_count": 109,
   "metadata": {},
   "outputs": [
    {
     "name": "stdout",
     "output_type": "stream",
     "text": [
      "Number of item greater than expected word length:  1000\n",
      "p value:  1.0\n",
      "Since p value is signficiantly greater than the minimum 5% threshold\n",
      "We can conclude and reject the null hypothesis (There is no difference) as it is false\n"
     ]
    }
   ],
   "source": [
    "# Write your code here.\n",
    "numOfItemGreaterExpectedWordLen = np.array(np.where(shuffledTrials >= expectedWordLen)).size\n",
    "pValue = numOfItemGreaterExpectedWordLen / numTrials\n",
    "print (\"Number of item greater than expected word length: \", numOfItemGreaterExpectedWordLen)\n",
    "print (\"p value: \", pValue)\n",
    "print (\"Since p value is signficiantly greater than the minimum 5% threshold\")\n",
    "print (\"We can conclude and reject the null hypothesis (There is no difference) as it is false\")"
   ]
  },
  {
   "cell_type": "markdown",
   "metadata": {},
   "source": [
    "**Task 5**: Propose an alternative way of mapping words to frequencies and show that it produces a lower expected length than the empirical value you calculated, justify your proposal, and print the top 20 most frequent words under this proposal. **[3pts]**"
   ]
  },
  {
   "cell_type": "code",
   "execution_count": 124,
   "metadata": {},
   "outputs": [
    {
     "name": "stdout",
     "output_type": "stream",
     "text": [
      "Word List:  ['a', 'i', 'o', 'j', 's', 'c', 'p', '1', '2', 'b', 'm', '5', 'e', 'd', 'h', 'w', '3', '4', 'f', 'l']\n",
      "Frequency List:  [15010, 8250, 7216, 6512, 5031, 4974, 3998, 3327, 2586, 2557, 2553, 2351, 2126, 2119, 1950, 1914, 1783, 1522, 1435, 1329]\n",
      "Expected Word Length:  2.925942376816354\n",
      "By mapping the highest frequency with the shortest word will produces the lowest expected word length\n",
      "This is because, then the shorter word will weight much during the calculation\n"
     ]
    }
   ],
   "source": [
    "# Write your solution here.\n",
    "testWordList = np.copy(sortWordByFreqList)\n",
    "testFreqList = np.copy(sortedFreqList)\n",
    "\n",
    "# Matches the shorest word with the highest frequency\n",
    "testWordList = sorted(testWordList, key=lambda x: len(x)) \n",
    "testFreqList = sorted(testFreqList, key=lambda x: x, reverse=True)\n",
    "print (\"Word List: \", testWordList[:20])\n",
    "print (\"Frequency List: \", testFreqList[:20])\n",
    "expectedWordLenFromFunc = calculateExpectedWordLength(testWordList, testFreqList)\n",
    "print (\"Expected Word Length: \" , expectedWordLenFromFunc)\n",
    "\n",
    "print (\"By mapping the highest frequency with the shortest word will produces the lowest expected word length\")\n",
    "print (\"This is because, then the shorter word will weight much during the calculation\")"
   ]
  },
  {
   "cell_type": "markdown",
   "metadata": {},
   "source": [
    "Export and submit a **fully executable** Python Jupyter Notebook and a PDF copy of your notebook showing all results. "
   ]
  },
  {
   "cell_type": "code",
   "execution_count": null,
   "metadata": {
    "collapsed": true
   },
   "outputs": [],
   "source": []
  }
 ],
 "metadata": {
  "anaconda-cloud": {},
  "kernelspec": {
   "display_name": "Python 3",
   "language": "python",
   "name": "python3"
  },
  "language_info": {
   "codemirror_mode": {
    "name": "ipython",
    "version": 3
   },
   "file_extension": ".py",
   "mimetype": "text/x-python",
   "name": "python",
   "nbconvert_exporter": "python",
   "pygments_lexer": "ipython3",
   "version": "3.7.3"
  }
 },
 "nbformat": 4,
 "nbformat_minor": 1
}

{
 "cells": [
  {
   "cell_type": "markdown",
   "metadata": {},
   "source": [
    "Import libraries\n"
   ]
  },
  {
   "cell_type": "code",
   "execution_count": 1,
   "metadata": {},
   "outputs": [],
   "source": [
    "from wcs_helper_functions import *"
   ]
  },
  {
   "cell_type": "code",
   "execution_count": 2,
   "metadata": {},
   "outputs": [],
   "source": [
    "import numpy as np\n",
    "from scipy import stats, spatial\n",
    "from random import random\n",
    "import copy\n",
    "%matplotlib inline"
   ]
  },
  {
   "cell_type": "markdown",
   "metadata": {},
   "source": [
    "Read data"
   ]
  },
  {
   "cell_type": "code",
   "execution_count": 3,
   "metadata": {},
   "outputs": [],
   "source": [
    "coordIndex, indexCoord = readChipData('./WCS_data_core/chip.txt')\n",
    "cielabCoord = readClabData('./WCS_data_core/cnum-vhcm-lab-new.txt')\n",
    "namingData = readNamingData('./WCS_data_core/term.txt')\n",
    "fociData = readFociData('./WCS_data_core/foci-exp.txt')\n",
    "\n",
    "namingDataBK = readNamingData('./bk_data/BK-term.txt')\n",
    "fociDataBK = readFociDataBK('./bk_data/BK-foci.txt')"
   ]
  },
  {
   "cell_type": "markdown",
   "metadata": {},
   "source": [
    "The getFoci function\n",
    "Returns a dictionary where (lang, term) = foci in cielab space"
   ]
  },
  {
   "cell_type": "code",
   "execution_count": 4,
   "metadata": {},
   "outputs": [],
   "source": [
    "def getFoci(fociData):\n",
    "    foci = {}\n",
    "    for lang, speakers in fociData.items():\n",
    "        bestExamples = {}\n",
    "        for speaker, terms in speakers.items():\n",
    "            for term, chips in terms.items():\n",
    "                if term not in bestExamples:\n",
    "                    bestExamples[term] = {}\n",
    "                for chip in chips:\n",
    "                    if chip not in bestExamples[term]:\n",
    "                        bestExamples[term][chip] = 0\n",
    "                    bestExamples[term][chip] += 1\n",
    "        for term, chips in bestExamples.items():\n",
    "            maxCount = 0\n",
    "            bestChips = []\n",
    "            for chip, count in chips.items():\n",
    "                if count == maxCount:\n",
    "                    bestChips.append(chip)\n",
    "                elif count > maxCount:\n",
    "                    maxCount = count\n",
    "                    bestChips = [chip]\n",
    "            chosenChip = np.random.choice(bestChips)\n",
    "            chosenChipIndex = coordIndex[chosenChip[0] + chosenChip[2:]]\n",
    "            foci[(lang, term)] = np.array(\n",
    "                cielabCoord[chosenChipIndex]).astype(np.float)\n",
    "    return foci"
   ]
  },
  {
   "cell_type": "code",
   "execution_count": 5,
   "metadata": {},
   "outputs": [],
   "source": [
    "def getCentroids(namingData):\n",
    "    centroids = {}\n",
    "    for lang, speakers in namingData.items():\n",
    "        speakerCentroids = {}\n",
    "        for speaker, chips in speakers.items():\n",
    "            terms = {}\n",
    "            # Get all cielab coordinates for the speaker\n",
    "            for chip, term in chips.items():\n",
    "                coord = cielabCoord[chip]\n",
    "                if term not in terms:\n",
    "                    terms[term] = []\n",
    "                terms[term].append(coord)\n",
    "\n",
    "            # Generate mean\n",
    "            for term, coords in terms.items():\n",
    "                if term not in speakerCentroids:\n",
    "                    speakerCentroids[term] = []\n",
    "                speakerCentroids[term].append(\n",
    "                    np.array(coords).astype(np.float).mean(axis=0))\n",
    "        # Generate mean for each term and lang\n",
    "        for term, l in speakerCentroids.items():\n",
    "            centroids[(lang, term)] = np.array(l).mean(axis=0)\n",
    "    return centroids"
   ]
  },
  {
   "cell_type": "code",
   "execution_count": 6,
   "metadata": {},
   "outputs": [],
   "source": [
    "def getLightnessRow(centroids):\n",
    "    lightness = {}\n",
    "    for term, colour in centroids.items():\n",
    "        L, a, b = colour.tolist()\n",
    "        closestLightness, munsellRow = float('inf'), None\n",
    "        for i, munsell in indexCoord.items():\n",
    "            cielab = cielabCoord[i]\n",
    "            if abs(L - float(cielab[0])) < closestLightness:\n",
    "                closestLightness, munsellRow = abs(L - float(cielab[0])), munsell[0]\n",
    "        \n",
    "        # Set the row of the term\n",
    "        lightness[term] = ((L, a, b), munsellRow)\n",
    "    return lightness"
   ]
  },
  {
   "cell_type": "code",
   "execution_count": 7,
   "metadata": {},
   "outputs": [],
   "source": [
    "def getChips(lightness):\n",
    "    # Get closest colour chip for each term in that row\n",
    "    chips = {}\n",
    "    for term, (colour, row) in lightness.items():\n",
    "        closest, chip = float('inf'), None\n",
    "        for i, munsell in indexCoord.items():\n",
    "            if munsell[0] == row: # and munsell[1] != \"0\":\n",
    "                cielab = np.array(cielabCoord[i]).astype(np.float)\n",
    "                dist = spatial.distance.cosine(cielab[1:], colour[1:])\n",
    "                if dist < closest:\n",
    "                    closest, chip = dist, i\n",
    "#         neutralChip = coordIndex[row + \"0\"]\n",
    "#         neutralCielab = np.array(cielabCoord[neutralChip]).astype(np.float)\n",
    "#         closestCielab = np.array(cielabCoord[chip]).astype(np.float) if chip is not None else None\n",
    "#         if chip is None or abs(np.linalg.norm(colour[1:]) - np.linalg.norm(neutralCielab[1:])) < abs(np.linalg.norm(closestCielab[1:]) - np.linalg.norm(colour[1:])):\n",
    "#             chip = neutralChip\n",
    "\n",
    "        chips[term] = np.array(cielabCoord[chip]).astype(np.float)\n",
    "    return chips"
   ]
  },
  {
   "cell_type": "code",
   "execution_count": 8,
   "metadata": {},
   "outputs": [],
   "source": [
    "centroids = {\n",
    "    \"bk\": getChips(getLightnessRow(getCentroids(namingDataBK))),\n",
    "    \"wcs\": getChips(getLightnessRow(getCentroids(namingData)))\n",
    "}\n",
    "\n",
    "focus = {\n",
    "    \"bk\": {term: colour for term, colour in getFoci(fociDataBK).items() if term in centroids[\"bk\"]},\n",
    "    \"wcs\": {term: colour for term, colour in getFoci(fociData).items() if term in centroids[\"wcs\"]}\n",
    "}\n",
    "\n",
    "# Refilter\n",
    "centroids = {\n",
    "    \"bk\": {term: colour for term, colour in centroids[\"bk\"].items() if term in focus[\"bk\"]},\n",
    "    \"wcs\": {term: colour for term, colour in centroids[\"wcs\"].items() if term in focus[\"wcs\"]}\n",
    "}"
   ]
  },
  {
   "cell_type": "code",
   "execution_count": 9,
   "metadata": {},
   "outputs": [
    {
     "data": {
      "text/plain": [
       "5488.847837309833"
      ]
     },
     "execution_count": 9,
     "metadata": {},
     "output_type": "execute_result"
    }
   ],
   "source": [
    "# Foci Separation Calculation\n",
    "fs = np.zeros(110)\n",
    "for (language, term), cielab in focus[\"wcs\"].items():\n",
    "    bkDist = np.ones(20) * np.inf\n",
    "    for (languageBK, termBK), cielabBK in focus[\"bk\"].items():\n",
    "        dist = spatial.distance.euclidean(cielab, cielabBK)\n",
    "        if dist < bkDist[languageBK - 1]:\n",
    "            bkDist[languageBK - 1] = dist\n",
    "    fs[language - 1] += bkDist.sum()\n",
    "np.mean(fs)"
   ]
  },
  {
   "cell_type": "code",
   "execution_count": 10,
   "metadata": {},
   "outputs": [
    {
     "data": {
      "text/plain": [
       "6836.337467670284"
      ]
     },
     "execution_count": 10,
     "metadata": {},
     "output_type": "execute_result"
    }
   ],
   "source": [
    "# Centroid Separation Calculation\n",
    "cs = np.zeros(110)\n",
    "for (language, term), cielab in centroids[\"wcs\"].items():\n",
    "    bkDist = np.ones(20) * np.inf\n",
    "    for (languageBK, termBK), cielabBK in centroids[\"bk\"].items():\n",
    "        dist = spatial.distance.euclidean(cielab, cielabBK)\n",
    "        if dist < bkDist[languageBK - 1]:\n",
    "            bkDist[languageBK - 1] = dist\n",
    "    cs[language - 1] += bkDist.sum()\n",
    "np.mean(cs)"
   ]
  },
  {
   "cell_type": "code",
   "execution_count": 11,
   "metadata": {},
   "outputs": [
    {
     "data": {
      "text/plain": [
       "1.135431450007425e-26"
      ]
     },
     "execution_count": 11,
     "metadata": {},
     "output_type": "execute_result"
    }
   ],
   "source": [
    "stats.ttest_rel(fs, cs).pvalue"
   ]
  },
  {
   "cell_type": "code",
   "execution_count": null,
   "metadata": {},
   "outputs": [],
   "source": []
  },
  {
   "cell_type": "code",
   "execution_count": null,
   "metadata": {},
   "outputs": [],
   "source": []
  },
  {
   "cell_type": "code",
   "execution_count": null,
   "metadata": {},
   "outputs": [],
   "source": []
  }
 ],
 "metadata": {
  "anaconda-cloud": {},
  "kernelspec": {
   "display_name": "Python 3",
   "language": "python",
   "name": "python3"
  },
  "language_info": {
   "codemirror_mode": {
    "name": "ipython",
    "version": 3
   },
   "file_extension": ".py",
   "mimetype": "text/x-python",
   "name": "python",
   "nbconvert_exporter": "python",
   "pygments_lexer": "ipython3",
   "version": "3.7.3"
  }
 },
 "nbformat": 4,
 "nbformat_minor": 1
}
